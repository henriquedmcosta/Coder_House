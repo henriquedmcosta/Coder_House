{
 "cells": [
  {
   "cell_type": "markdown",
   "metadata": {},
   "source": [
    "# Projeto Final\n"
   ]
  },
  {
   "cell_type": "code",
   "execution_count": 20,
   "metadata": {},
   "outputs": [],
   "source": [
    "import pandas as pd\n",
    "import requests\n",
    "from plyer import notification\n",
    "import sqlite3\n",
    "from datetime import datetime"
   ]
  },
  {
   "cell_type": "markdown",
   "metadata": {},
   "source": [
    "# Função Alerta"
   ]
  },
  {
   "cell_type": "code",
   "execution_count": 25,
   "metadata": {},
   "outputs": [],
   "source": [
    "def alerta(nivel, base, etapa):\n",
    "    \n",
    "    now = str(datetime.now())\n",
    "\n",
    "    msg = f\"Sucesso no carregamento da base {base} na etapa {etapa}.\\n{now}\"\n",
    "    msg1 = f\"Falha no carregamento da base {base} na etapa {etapa}.\\n{now}\"\n",
    "    \n",
    "\n",
    "\n",
    "    if nivel == 1:\n",
    "        title = 'ATENÇÃO: Alerta Baixo'\n",
    "    elif nivel == 2:\n",
    "        title = 'ATENÇÃO: Alerta Médio'\n",
    "    elif nivel  == 3:\n",
    "        title = 'ATENÇÃO: Alerta Alto'\n",
    "    else:\n",
    "        print(\"Nivel\",nivel,\"não disponível!\")\n",
    "        \n",
    "    \n",
    "    if response.status_code == 200:\n",
    "        notification.notify(\n",
    "        title=title,\n",
    "        message=msg,\n",
    "        app_name='alerta',\n",
    "        timeout=10\n",
    "        )\n",
    "    else:\n",
    "        notification.notify(\n",
    "        title=title,\n",
    "        message=msg1,\n",
    "        app_name='alerta',\n",
    "        timeout=10\n",
    "        )\n",
    "    "
   ]
  },
  {
   "cell_type": "markdown",
   "metadata": {},
   "source": [
    "# Função Banco de Dados"
   ]
  },
  {
   "cell_type": "code",
   "execution_count": 45,
   "metadata": {},
   "outputs": [],
   "source": [
    "def salva_bd(df, nome_tabela):\n",
    "    conn = sqlite3.connect('coderhouse.db')\n",
    "    df.to_sql(nome_tabela, conn, if_exists='replace', index=False)\n",
    "    conn.close()\n",
    "    \n",
    "def carrega_bd(nome_tabela):\n",
    "    conn = sqlite3.connect('coderhouse.db')\n",
    "    query = f\"SELECT * FROM {nome_tabela}\"\n",
    "    df = pd.read_sql(query, conn)\n",
    "    conn.close()\n",
    "    "
   ]
  },
  {
   "cell_type": "markdown",
   "metadata": {},
   "source": [
    "# Extraindo Dados da API"
   ]
  },
  {
   "cell_type": "markdown",
   "metadata": {},
   "source": [
    "API Bancos"
   ]
  },
  {
   "cell_type": "code",
   "execution_count": 29,
   "metadata": {},
   "outputs": [],
   "source": [
    "url = \"https://brasilapi.com.br/api/banks/v1\"\n",
    "response = requests.get(url)\n",
    "alerta(nivel=1,\n",
    "       base=\"Bancos\",\n",
    "       etapa=\"Extração\")"
   ]
  },
  {
   "cell_type": "markdown",
   "metadata": {},
   "source": [
    "API Corretoras"
   ]
  },
  {
   "cell_type": "code",
   "execution_count": 30,
   "metadata": {},
   "outputs": [],
   "source": [
    "url_1 = \"https://brasilapi.com.br/api/cvm/corretoras/v1\"\n",
    "response_1 = requests.get(url_1)\n",
    "alerta(nivel=1,\n",
    "       base=\"Corretoras\",\n",
    "       etapa=\"Extração\")"
   ]
  },
  {
   "cell_type": "markdown",
   "metadata": {},
   "source": [
    "API UF"
   ]
  },
  {
   "cell_type": "code",
   "execution_count": 31,
   "metadata": {},
   "outputs": [],
   "source": [
    "url_2 = \"https://brasilapi.com.br/api/ibge/uf/v1\"\n",
    "response_2 = requests.get(url_2)\n",
    "alerta(nivel=1,\n",
    "       base=\"UF\",\n",
    "       etapa=\"Extração\")"
   ]
  },
  {
   "cell_type": "markdown",
   "metadata": {},
   "source": [
    "# Análise e Transformação"
   ]
  },
  {
   "cell_type": "markdown",
   "metadata": {},
   "source": [
    "API Bancos"
   ]
  },
  {
   "cell_type": "code",
   "execution_count": null,
   "metadata": {},
   "outputs": [],
   "source": [
    "df_bancos = pd.DataFrame(response.json())\n",
    "df_bancos.isna().sum()\n",
    "df_bancos[df_bancos.code.isna()]\n",
    "df_bancos.dropna(subset=['code', 'name', 'fullName'], inplace=True)\n",
    "df_bancos.rename(columns={'name':'nome', 'code':'codigo','fullName':'nomeCompleto'}, inplace=True)\n",
    "df_bancos"
   ]
  },
  {
   "cell_type": "markdown",
   "metadata": {},
   "source": [
    "API Corretoras"
   ]
  },
  {
   "cell_type": "code",
   "execution_count": null,
   "metadata": {},
   "outputs": [],
   "source": [
    "df_corretoras = pd.DataFrame(response_1.json())\n",
    "df_corretoras.isna().sum()\n",
    "df_corretoras.rename(columns={'type':'tipo'}, inplace=True)\n",
    "df_corretoras\n"
   ]
  },
  {
   "cell_type": "markdown",
   "metadata": {},
   "source": [
    "API UF"
   ]
  },
  {
   "cell_type": "code",
   "execution_count": 50,
   "metadata": {},
   "outputs": [],
   "source": [
    "df_uf = pd.DataFrame(response_2.json())\n",
    "df_uf.drop(columns=['id','regiao'],inplace=True)"
   ]
  },
  {
   "cell_type": "markdown",
   "metadata": {},
   "source": [
    "# Salvando e Carregando os DF"
   ]
  },
  {
   "cell_type": "markdown",
   "metadata": {},
   "source": [
    "Bancos"
   ]
  },
  {
   "cell_type": "code",
   "execution_count": null,
   "metadata": {},
   "outputs": [],
   "source": [
    "salva_bd(df=df_bancos,nome_tabela=\"Bancos\")\n",
    "alerta(nivel=1,\n",
    "       base=\"Bancos\",\n",
    "       etapa=\"Extraçã\")\n",
    "carrega_bd(nome_tabela=\"Bancos\")\n",
    "df_bancos.head()\n"
   ]
  },
  {
   "cell_type": "markdown",
   "metadata": {},
   "source": [
    "Corretoras"
   ]
  },
  {
   "cell_type": "code",
   "execution_count": null,
   "metadata": {},
   "outputs": [],
   "source": [
    "salva_bd(df=df_corretoras,nome_tabela=\"Corretoras\")\n",
    "alerta(nivel=1,\n",
    "       base=\"Corretoras\",\n",
    "       etapa=\"Extraçã\")\n",
    "carrega_bd(nome_tabela=\"Corretoras\")\n",
    "df_corretoras.head()"
   ]
  },
  {
   "cell_type": "markdown",
   "metadata": {},
   "source": [
    "UF"
   ]
  },
  {
   "cell_type": "code",
   "execution_count": null,
   "metadata": {},
   "outputs": [],
   "source": [
    "salva_bd(df=df_uf,nome_tabela=\"UF\")\n",
    "alerta(nivel=1,\n",
    "       base=\"UF\",\n",
    "       etapa=\"Extraçã\")\n",
    "carrega_bd(nome_tabela=\"UF\")\n",
    "df_uf.head()"
   ]
  }
 ],
 "metadata": {
  "kernelspec": {
   "display_name": "base",
   "language": "python",
   "name": "python3"
  },
  "language_info": {
   "codemirror_mode": {
    "name": "ipython",
    "version": 3
   },
   "file_extension": ".py",
   "mimetype": "text/x-python",
   "name": "python",
   "nbconvert_exporter": "python",
   "pygments_lexer": "ipython3",
   "version": "3.11.5"
  }
 },
 "nbformat": 4,
 "nbformat_minor": 2
}
